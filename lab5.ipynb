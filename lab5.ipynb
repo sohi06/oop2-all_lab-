{
  "nbformat": 4,
  "nbformat_minor": 0,
  "metadata": {
    "colab": {
      "provenance": []
    },
    "kernelspec": {
      "name": "python3",
      "display_name": "Python 3"
    },
    "language_info": {
      "name": "python"
    }
  },
  "cells": [
    {
      "cell_type": "code",
      "execution_count": null,
      "metadata": {
        "colab": {
          "base_uri": "https://localhost:8080/"
        },
        "id": "2QeIjNx4Pjo-",
        "outputId": "63699963-4513-4fc5-8e4c-b2d48cff744b"
      },
      "outputs": [
        {
          "output_type": "stream",
          "name": "stdout",
          "text": [
            "hello b2b2b2 3g3g\n"
          ]
        }
      ],
      "source": [
        "a=\"hello\"\n",
        "b=\"b2b2b2\"\n",
        "c=\"3g3g\"\n",
        "d=a+\" \"+b+\" \"+c\n",
        "print(d)"
      ]
    },
    {
      "cell_type": "code",
      "source": [
        "print(len(d))\n",
        "print(d[:-3])\n",
        "print(d[::-3])"
      ],
      "metadata": {
        "colab": {
          "base_uri": "https://localhost:8080/"
        },
        "id": "kJcOLSfdWqKw",
        "outputId": "ed319f21-a92f-4a9e-fa46-0be9fbec52dd"
      },
      "execution_count": null,
      "outputs": [
        {
          "output_type": "stream",
          "name": "stdout",
          "text": [
            "17\n",
            "hello b2b2b2 3\n",
            "g3b2oe\n"
          ]
        }
      ]
    },
    {
      "cell_type": "code",
      "source": [
        "print(d.upper())\n",
        "print(d.lower())\n",
        "print(d.title())\n",
        "print(d.find(\"3g\"))\n",
        "print(d.strip())\n",
        "print(d.isdigit())\n",
        "print(d.capitalize())\n",
        "print(d.isalnum())\n",
        "print(d.split())\n",
        "print(d.count(\"a2\"))\n",
        "print(d.replace(\"hello\",\"python\"))\n",
        "print(d.swapcase())\n",
        "for x in d:\n",
        "  if(\"a2\" in x):\n",
        "   print(\"a2 find\")\n",
        "\n",
        "  else:\n",
        "    print(\"not find\")\n",
        "    break;\n",
        "\n",
        "\n",
        "\n",
        "\n",
        "\n"
      ],
      "metadata": {
        "colab": {
          "base_uri": "https://localhost:8080/"
        },
        "id": "OfAZFgo-XHAc",
        "outputId": "c4ac74ba-487d-427f-eaae-1017f1dd6813"
      },
      "execution_count": null,
      "outputs": [
        {
          "output_type": "stream",
          "name": "stdout",
          "text": [
            "HELLO B2B2B2 3G3G\n",
            "hello b2b2b2 3g3g\n",
            "Hello B2B2B2 3G3G\n",
            "13\n",
            "hello b2b2b2 3g3g\n",
            "False\n",
            "Hello b2b2b2 3g3g\n",
            "False\n",
            "['hello', 'b2b2b2', '3g3g']\n",
            "0\n",
            "python b2b2b2 3g3g\n",
            "HELLO B2B2B2 3G3G\n",
            "not find\n"
          ]
        }
      ]
    },
    {
      "cell_type": "code",
      "source": [
        "x=lambda a:a*a\n",
        "print(x(8))"
      ],
      "metadata": {
        "colab": {
          "base_uri": "https://localhost:8080/"
        },
        "id": "rCrfX8EkeE2N",
        "outputId": "385fc2dd-1110-4f9b-f11e-3dcd7837a80e"
      },
      "execution_count": null,
      "outputs": [
        {
          "output_type": "stream",
          "name": "stdout",
          "text": [
            "64\n"
          ]
        }
      ]
    },
    {
      "cell_type": "code",
      "source": [
        "\n",
        "numbers = [1, 3, 4]\n",
        "\n",
        "cubes = list(map(lambda x: x ** 3, numbers))\n",
        "\n",
        "print(cubes)"
      ],
      "metadata": {
        "colab": {
          "base_uri": "https://localhost:8080/"
        },
        "id": "8VdVfxXJgOKW",
        "outputId": "4804fef1-a828-4bf9-992d-77fe7df6ddec"
      },
      "execution_count": null,
      "outputs": [
        {
          "output_type": "stream",
          "name": "stdout",
          "text": [
            "[1, 27, 64]\n"
          ]
        }
      ]
    },
    {
      "cell_type": "code",
      "source": [
        "numbers = [1, 3, 4]\n",
        "\n",
        "cubes = list(map(lambda x: x ** 3, numbers))\n",
        "\n",
        "print(cubes)"
      ],
      "metadata": {
        "id": "rDpolcVkguh-"
      },
      "execution_count": null,
      "outputs": []
    },
    {
      "cell_type": "code",
      "source": [
        "fruits=[\"apple\",\"banana\",\"cherry\"]\n",
        "n=[]\n",
        "for x in fruits:\n",
        "  if \"a\" in x:\n",
        "    n.append(x)\n",
        "print(n)"
      ],
      "metadata": {
        "colab": {
          "base_uri": "https://localhost:8080/"
        },
        "id": "W1b4PlJ6h1RP",
        "outputId": "9bc9fee2-0b86-45cd-f643-53d2ddf4b0dc"
      },
      "execution_count": null,
      "outputs": [
        {
          "output_type": "stream",
          "name": "stdout",
          "text": [
            "['apple', 'banana']\n"
          ]
        }
      ]
    },
    {
      "cell_type": "code",
      "source": [
        "a=[1,2,3,4,5,6,7]\n",
        "b=[]\n",
        "for x in a:\n",
        "  if x%2==0:\n",
        "    b.append(x)\n",
        "print(b)"
      ],
      "metadata": {
        "colab": {
          "base_uri": "https://localhost:8080/"
        },
        "id": "Qqhw26Aai4BK",
        "outputId": "2d97b35f-c823-44be-efae-6da1ae0a20bd"
      },
      "execution_count": null,
      "outputs": [
        {
          "output_type": "stream",
          "name": "stdout",
          "text": [
            "[2, 4, 6]\n"
          ]
        }
      ]
    },
    {
      "cell_type": "code",
      "source": [
        "array_2d = [\n",
        "    [1, 2, 3],\n",
        "    [4, 5, 6],\n",
        "    [7, 8, 9]\n",
        "]\n",
        "\n",
        "for row in array_2d:\n",
        "    for item in row:\n",
        "        print(item, end=' ')\n",
        "    print()"
      ],
      "metadata": {
        "id": "VTQwan9pj_iA",
        "outputId": "2dfbf61a-11b1-482c-8dca-1a021d213d96",
        "colab": {
          "base_uri": "https://localhost:8080/"
        }
      },
      "execution_count": null,
      "outputs": [
        {
          "output_type": "stream",
          "name": "stdout",
          "text": [
            "1 2 3 \n",
            "4 5 6 \n",
            "7 8 9 \n"
          ]
        }
      ]
    }
  ]
}