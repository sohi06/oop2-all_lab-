{
  "nbformat": 4,
  "nbformat_minor": 0,
  "metadata": {
    "colab": {
      "provenance": []
    },
    "kernelspec": {
      "name": "python3",
      "display_name": "Python 3"
    },
    "language_info": {
      "name": "python"
    }
  },
  "cells": [
    {
      "cell_type": "code",
      "execution_count": null,
      "metadata": {
        "id": "7tkml_2ppQVo"
      },
      "outputs": [],
      "source": [
        "import numpy as np\n"
      ]
    },
    {
      "cell_type": "code",
      "source": [
        "#1d array\n",
        "num=np.array([2,3,5,7,11])\n",
        "print(num)\n",
        "print(type(num))"
      ],
      "metadata": {
        "colab": {
          "base_uri": "https://localhost:8080/"
        },
        "id": "USCpgtd5plPe",
        "outputId": "ed76d0fd-9f13-4fe9-a166-3b3f469fd10c"
      },
      "execution_count": null,
      "outputs": [
        {
          "output_type": "stream",
          "name": "stdout",
          "text": [
            "[ 2  3  5  7 11]\n",
            "<class 'numpy.ndarray'>\n"
          ]
        }
      ]
    },
    {
      "cell_type": "code",
      "source": [
        "#2d array\n",
        "num2=np.array([[2,3,5,7,11],[1,2,3,4,5],[3,4,5,6,8]])\n",
        "print(num2)"
      ],
      "metadata": {
        "colab": {
          "base_uri": "https://localhost:8080/"
        },
        "id": "Jn_VjKuBp1Rn",
        "outputId": "b30f6b67-5d2a-4c31-d820-1f29e5731e9c"
      },
      "execution_count": null,
      "outputs": [
        {
          "output_type": "stream",
          "name": "stdout",
          "text": [
            "[[ 2  3  5  7 11]\n",
            " [ 1  2  3  4  5]\n",
            " [ 3  4  5  6  8]]\n"
          ]
        }
      ]
    },
    {
      "cell_type": "code",
      "source": [
        "#3d array\n",
        "num3=np.array([[[2,3,5,7,11],[1,2,3,4,5],[3,4,5,6,8]]])\n",
        "print(num3)"
      ],
      "metadata": {
        "colab": {
          "base_uri": "https://localhost:8080/"
        },
        "id": "wux5WWQvqkQv",
        "outputId": "242c77cd-5a01-4c86-c38d-9ca629cc61dd"
      },
      "execution_count": null,
      "outputs": [
        {
          "output_type": "stream",
          "name": "stdout",
          "text": [
            "[[[ 2  3  5  7 11]\n",
            "  [ 1  2  3  4  5]\n",
            "  [ 3  4  5  6  8]]]\n"
          ]
        }
      ]
    },
    {
      "cell_type": "code",
      "source": [
        "#array comprehension\n",
        "import numpy as np\n",
        "output=np.array([[x for x in range(2,21,2)],[x for x in range (1,21,2)]])\n",
        "output"
      ],
      "metadata": {
        "colab": {
          "base_uri": "https://localhost:8080/"
        },
        "id": "AbbseqUvqyTv",
        "outputId": "9f6b273d-2ca2-4013-9b4c-9f43445d08c1"
      },
      "execution_count": null,
      "outputs": [
        {
          "output_type": "execute_result",
          "data": {
            "text/plain": [
              "array([[ 2,  4,  6,  8, 10, 12, 14, 16, 18, 20],\n",
              "       [ 1,  3,  5,  7,  9, 11, 13, 15, 17, 19]])"
            ]
          },
          "metadata": {},
          "execution_count": 17
        }
      ]
    },
    {
      "cell_type": "code",
      "source": [
        "num=np.array([2,3,5,7,11])\n",
        "print(num.dtype)\n",
        "print(num.shape)\n",
        "print(num.size)\n",
        "print(num.itemsize)"
      ],
      "metadata": {
        "colab": {
          "base_uri": "https://localhost:8080/"
        },
        "id": "GnMDmmajr1ro",
        "outputId": "58e9c92a-af39-4fb8-ae61-ad8f131ce798"
      },
      "execution_count": null,
      "outputs": [
        {
          "output_type": "stream",
          "name": "stdout",
          "text": [
            "int64\n",
            "(5,)\n",
            "5\n",
            "8\n"
          ]
        }
      ]
    },
    {
      "cell_type": "code",
      "source": [
        "# array operation\n",
        "array=np.array([[1,2,3],[4,5,6]])\n",
        "array\n",
        "print(array>5)\n",
        "print(array<=5)\n",
        "print(array==5)\n"
      ],
      "metadata": {
        "colab": {
          "base_uri": "https://localhost:8080/"
        },
        "id": "kmqftqgDs0g_",
        "outputId": "649145a7-b47c-40e2-dc72-473289767b34"
      },
      "execution_count": null,
      "outputs": [
        {
          "output_type": "stream",
          "name": "stdout",
          "text": [
            "[[False False False]\n",
            " [False False  True]]\n",
            "[[ True  True  True]\n",
            " [ True  True False]]\n",
            "[[False False False]\n",
            " [False  True False]]\n"
          ]
        }
      ]
    },
    {
      "cell_type": "code",
      "source": [
        "grades=np.array([[1,2,3],[4,5,6],[5,7,8],[9,8,6]])\n",
        "grades\n",
        "print(grades.max())\n",
        "print(grades.min())\n",
        "print(grades.sum())\n",
        "print(grades.mean())\n",
        "print(grades.var())\n",
        "print(grades.std())\n",
        "print(grades.mean(axis=0))\n",
        "print(grades.mean(axis=1))\n"
      ],
      "metadata": {
        "colab": {
          "base_uri": "https://localhost:8080/"
        },
        "id": "qXBqc5jjuDov",
        "outputId": "b73b4a21-edd1-48ae-941c-dfa8a4123235"
      },
      "execution_count": null,
      "outputs": [
        {
          "output_type": "stream",
          "name": "stdout",
          "text": [
            "9\n",
            "1\n",
            "64\n",
            "5.333333333333333\n",
            "5.722222222222222\n",
            "2.3921166824012206\n",
            "[4.75 5.5  5.75]\n"
          ]
        }
      ]
    },
    {
      "cell_type": "code",
      "source": [
        "num1=np.arange(1,6)\n",
        "num1\n",
        "num2=num1.view()\n",
        "print(num2)\n",
        "print(id(num1))\n",
        "print(id(num2))\n",
        "#deep copies\n",
        "num2[1]*=5\n",
        "print(num1)\n",
        "print(num2)\n"
      ],
      "metadata": {
        "colab": {
          "base_uri": "https://localhost:8080/"
        },
        "id": "rBkoQlTxwNQX",
        "outputId": "f89e4ff0-3662-43a4-9d5d-2ae263979ec0"
      },
      "execution_count": null,
      "outputs": [
        {
          "output_type": "stream",
          "name": "stdout",
          "text": [
            "[1 2 3 4 5]\n",
            "137481430125712\n",
            "137481430128784\n",
            "[ 1 10  3  4  5]\n",
            "[ 1 10  3  4  5]\n"
          ]
        }
      ]
    },
    {
      "cell_type": "code",
      "source": [
        "import numpy as np\n",
        "\n",
        "arr = np.array([1.1, 2.1, 3.1])\n",
        "\n",
        "newarr = arr.astype(int)\n",
        "\n",
        "print(newarr)\n",
        "print(newarr.dtype)"
      ],
      "metadata": {
        "colab": {
          "base_uri": "https://localhost:8080/"
        },
        "id": "uOArurLDxfY4",
        "outputId": "a75d6e4c-85b4-42ee-ccc6-43f4d0aaf738"
      },
      "execution_count": null,
      "outputs": [
        {
          "output_type": "stream",
          "name": "stdout",
          "text": [
            "[1 2 3]\n",
            "int64\n"
          ]
        }
      ]
    },
    {
      "cell_type": "code",
      "source": [
        "\n",
        "\n",
        "arr = np.array([1, 0, 3])\n",
        "\n",
        "newarr = arr.astype(bool)\n",
        "\n",
        "print(newarr)\n",
        "print(newarr.dtype)"
      ],
      "metadata": {
        "colab": {
          "base_uri": "https://localhost:8080/"
        },
        "id": "iWjxfrs_1ITl",
        "outputId": "65d7a1bf-a53f-4211-b0a9-74f7d6ddb843"
      },
      "execution_count": null,
      "outputs": [
        {
          "output_type": "stream",
          "name": "stdout",
          "text": [
            "[ True False  True]\n",
            "bool\n"
          ]
        }
      ]
    },
    {
      "cell_type": "code",
      "source": [
        "import numpy as np\n",
        "\n",
        "arr = np.array([1, 2, 3, 4, 5, 4, 4])\n",
        "\n",
        "x = np.where(arr == 4)\n",
        "\n",
        "print(x)"
      ],
      "metadata": {
        "colab": {
          "base_uri": "https://localhost:8080/"
        },
        "id": "3iyRREnm1KF4",
        "outputId": "cbb39b77-c025-4ec2-c6b8-9c80c18ef4d3"
      },
      "execution_count": null,
      "outputs": [
        {
          "output_type": "stream",
          "name": "stdout",
          "text": [
            "(array([3, 5, 6]),)\n"
          ]
        }
      ]
    },
    {
      "cell_type": "code",
      "source": [
        "score=np.array([85,90,78,92,88])\n",
        "s=score.astype(float)\n",
        "print(s)\n",
        "print(score.dtype)\n",
        "score1=score.copy()\n",
        "print(score1)\n",
        "score[1]*=5\n",
        "print(score)\n",
        "\n",
        "x = np.where(score >85)\n",
        "\n",
        "print(x)\n",
        "print(score.dtype)\n",
        "print(score.shape)\n",
        "print(score.size)\n",
        "print(score.itemsize)\n",
        "print(score.max())\n",
        "print(score.min())\n",
        "print(score.sum())\n",
        "print(score.mean())\n",
        "print(score.var())\n",
        "print(score.std())\n",
        "print(score.mean(axis=0))\n",
        "print(np.sort(score))\n",
        "\n",
        "print()\n",
        "print(score[::2])\n",
        "\n",
        "print(score[-3:-1])\n",
        "\n",
        "print(score[1:4])\n",
        "\n"
      ],
      "metadata": {
        "colab": {
          "base_uri": "https://localhost:8080/"
        },
        "id": "5XPadfF72D44",
        "outputId": "9f99f747-e7a4-47f9-84f1-e01caa83964e"
      },
      "execution_count": null,
      "outputs": [
        {
          "output_type": "stream",
          "name": "stdout",
          "text": [
            "[85. 90. 78. 92. 88.]\n",
            "int64\n",
            "[85 90 78 92 88]\n",
            "[ 85 450  78  92  88]\n",
            "(array([1, 3, 4]),)\n",
            "int64\n",
            "(5,)\n",
            "5\n",
            "8\n",
            "450\n",
            "78\n",
            "793\n",
            "158.6\n",
            "21249.439999999995\n",
            "145.77187657432415\n",
            "158.6\n",
            "[ 78  85  88  92 450]\n",
            "\n",
            "[85 78 88]\n",
            "[78 92]\n",
            "[450  78  92]\n"
          ]
        }
      ]
    },
    {
      "cell_type": "code",
      "source": [],
      "metadata": {
        "id": "9XWSStU_2hhp"
      },
      "execution_count": null,
      "outputs": []
    }
  ]
}