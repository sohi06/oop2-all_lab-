{
  "nbformat": 4,
  "nbformat_minor": 0,
  "metadata": {
    "colab": {
      "provenance": []
    },
    "kernelspec": {
      "name": "python3",
      "display_name": "Python 3"
    },
    "language_info": {
      "name": "python"
    }
  },
  "cells": [
    {
      "cell_type": "markdown",
      "source": [
        "print\n"
      ],
      "metadata": {
        "id": "n_6yC48MB0kP"
      }
    },
    {
      "cell_type": "code",
      "source": [
        "print(\"hello\")"
      ],
      "metadata": {
        "id": "iQeRX9K-B7hq"
      },
      "execution_count": null,
      "outputs": []
    },
    {
      "cell_type": "code",
      "source": [
        "print(\"hi\"+\"hello\")"
      ],
      "metadata": {
        "colab": {
          "base_uri": "https://localhost:8080/"
        },
        "id": "blaxpdC6CQPG",
        "outputId": "81f6b4e4-6a62-47bd-c5d3-93df1a71dda5"
      },
      "execution_count": null,
      "outputs": [
        {
          "output_type": "stream",
          "name": "stdout",
          "text": [
            "hihello\n"
          ]
        }
      ]
    },
    {
      "cell_type": "code",
      "source": [
        "print(8+9)"
      ],
      "metadata": {
        "colab": {
          "base_uri": "https://localhost:8080/"
        },
        "id": "AGOYD9uoCZXf",
        "outputId": "174af7c0-d84c-4699-f1a0-31286caee40d"
      },
      "execution_count": null,
      "outputs": [
        {
          "output_type": "stream",
          "name": "stdout",
          "text": [
            "17\n"
          ]
        }
      ]
    },
    {
      "cell_type": "code",
      "source": [
        "type(8)"
      ],
      "metadata": {
        "colab": {
          "base_uri": "https://localhost:8080/"
        },
        "id": "Wzz68sL5Ch8d",
        "outputId": "5ddfc4b3-0187-4483-fbb3-46694c058d07"
      },
      "execution_count": null,
      "outputs": [
        {
          "output_type": "execute_result",
          "data": {
            "text/plain": [
              "int"
            ]
          },
          "metadata": {},
          "execution_count": 4
        }
      ]
    },
    {
      "cell_type": "code",
      "source": [
        "a=9\n",
        "print(a)"
      ],
      "metadata": {
        "colab": {
          "base_uri": "https://localhost:8080/"
        },
        "id": "QwuvCl2hCuz1",
        "outputId": "9a51faff-48c1-4823-9a45-cea82f2d4729"
      },
      "execution_count": null,
      "outputs": [
        {
          "output_type": "stream",
          "name": "stdout",
          "text": [
            "9\n"
          ]
        }
      ]
    },
    {
      "cell_type": "code",
      "source": [
        "num1=int(input(\"enter a number \" ))\n",
        "num2=int3(input(\"enter a number \" ))\n",
        "sum=num1 +num2\n",
        "print( sum)\n",
        "print(num1+num2)"
      ],
      "metadata": {
        "id": "5Sw3FPpfC_M5"
      },
      "execution_count": null,
      "outputs": []
    },
    {
      "cell_type": "code",
      "source": [
        "#changing type\n",
        "num=5\n",
        "print(float(num))"
      ],
      "metadata": {
        "id": "eL82HL7SERVF"
      },
      "execution_count": null,
      "outputs": []
    },
    {
      "cell_type": "code",
      "source": [
        "#complex number\n",
        "s=1+5j\n",
        "print(s)"
      ],
      "metadata": {
        "colab": {
          "base_uri": "https://localhost:8080/"
        },
        "id": "dYrb7JuEE6yS",
        "outputId": "db55e2a4-7efb-4b85-abcb-f4700388449f"
      },
      "execution_count": null,
      "outputs": [
        {
          "output_type": "stream",
          "name": "stdout",
          "text": [
            "(1+5j)\n"
          ]
        }
      ]
    },
    {
      "cell_type": "code",
      "source": [
        "#boolean\n",
        "s=True\n",
        "type(s)"
      ],
      "metadata": {
        "colab": {
          "base_uri": "https://localhost:8080/"
        },
        "id": "dI-lAcicFRV9",
        "outputId": "94f54536-c03b-4c7c-a669-e9bf4760eb38"
      },
      "execution_count": null,
      "outputs": [
        {
          "output_type": "execute_result",
          "data": {
            "text/plain": [
              "bool"
            ]
          },
          "metadata": {},
          "execution_count": 12
        }
      ]
    },
    {
      "cell_type": "code",
      "source": [
        "print(\"hello\"*7)"
      ],
      "metadata": {
        "colab": {
          "base_uri": "https://localhost:8080/"
        },
        "id": "YlYgUvOUFoPe",
        "outputId": "bd3d2763-696f-4663-d4b4-14652945e0c7"
      },
      "execution_count": null,
      "outputs": [
        {
          "output_type": "stream",
          "name": "stdout",
          "text": [
            "hellohellohellohellohellohellohello\n"
          ]
        }
      ]
    },
    {
      "cell_type": "code",
      "source": [
        "#slicing\n",
        "s=\"sbby\"\n",
        "print(s[1:3])    #values from 1to 3-1"
      ],
      "metadata": {
        "colab": {
          "base_uri": "https://localhost:8080/"
        },
        "id": "GZNve-7cF3r4",
        "outputId": "709131ec-8864-4714-e5ec-a89bb9eb3b9f"
      },
      "execution_count": null,
      "outputs": [
        {
          "output_type": "stream",
          "name": "stdout",
          "text": [
            "bb\n"
          ]
        }
      ]
    },
    {
      "cell_type": "code",
      "source": [],
      "metadata": {
        "id": "qDCn3iIXGtZr"
      },
      "execution_count": null,
      "outputs": []
    },
    {
      "cell_type": "code",
      "source": [
        "#slicing\n",
        "s=\"programming\"\n",
        "print(s[0:10:2])"
      ],
      "metadata": {
        "colab": {
          "base_uri": "https://localhost:8080/"
        },
        "outputId": "368d59db-c25f-4ca3-e0c8-362d72bacb55",
        "id": "Nf0_lx0PGuQt"
      },
      "execution_count": null,
      "outputs": [
        {
          "output_type": "stream",
          "name": "stdout",
          "text": [
            "pormi\n"
          ]
        }
      ]
    },
    {
      "cell_type": "markdown",
      "source": [
        "special data types in python\n",
        "types of objects in python:\n",
        "1.immutable\n",
        "2.mutable\n",
        "\n",
        "immutable objects: they are unchangeble\n",
        "\n",
        "1.int\n",
        "2.float\n",
        "3.str\n",
        "4.bool\n",
        "5.tuple\n",
        "\n",
        "\n",
        "mutable objects:\n",
        "1.list\n",
        "2.set\n",
        "3.dictionary\n"
      ],
      "metadata": {
        "id": "qdMFtC_sAfLz"
      }
    },
    {
      "cell_type": "code",
      "source": [
        "#list should be in square brackets\n",
        "mylist=[1,2,3,4,5]\n",
        "print(mylist)\n",
        "type(mylist)\n",
        "\n",
        "#list can have multi types\n",
        "mylist=[1,2,3,4,5,\"sb\"]\n",
        "print(mylist)\n",
        "\n",
        "\n",
        "#adding something in a list\n",
        "mylist=[1,2,3,4,5]\n",
        "mylist.append(90)\n",
        "print(mylist)\n",
        "\n",
        "#print elements by index\n",
        "mylist=[1,2,3,4,5]\n",
        "print(mylist[0])\n",
        "\n",
        "\n",
        "#dlting item from list\n",
        "mylist=[1,2,3,4,5]\n",
        "del mylist[1]\n",
        "print(mylist)\n",
        "\n",
        "#allow duplicate values\n",
        "#joining two list\n",
        "mylist=[1,2,3,4,5,5]\n",
        "mylist2=[6,7,8,9,10]\n",
        "m=mylist+mylist2\n",
        "print(m)"
      ],
      "metadata": {
        "colab": {
          "base_uri": "https://localhost:8080/"
        },
        "id": "a5BPXBMoCX9J",
        "outputId": "4d39c213-c61b-4751-cf9a-0925a7dc3c01"
      },
      "execution_count": null,
      "outputs": [
        {
          "output_type": "stream",
          "name": "stdout",
          "text": [
            "[1, 2, 3, 4, 5]\n",
            "[1, 2, 3, 4, 5, 'sb']\n",
            "[1, 2, 3, 4, 5, 90]\n",
            "1\n",
            "[1, 3, 4, 5]\n",
            "[1, 2, 3, 4, 5, 5, 6, 7, 8, 9, 10]\n"
          ]
        }
      ]
    },
    {
      "cell_type": "code",
      "source": [
        "#tuple\n",
        "#tuple in first bracket\n",
        "#tuple allows multiple data types\n",
        "#allow duplicate values\n",
        "#append or dlt aren't applicable(can't change)\n",
        "\n",
        "mylist=(1,2,3,4,5)\n",
        "print(mylist)\n",
        "\n",
        "\n",
        "#converting list to tuple\n",
        "mylist=[1,2,3,4,5,5]\n",
        "print(mylist)\n",
        "\n",
        "tup=tuple(mylist)\n",
        "print(tup)"
      ],
      "metadata": {
        "colab": {
          "base_uri": "https://localhost:8080/"
        },
        "id": "Ug7hLkt9FZw3",
        "outputId": "94b1df24-2745-4cd9-b327-f71737a30e07"
      },
      "execution_count": null,
      "outputs": [
        {
          "output_type": "stream",
          "name": "stdout",
          "text": [
            "(1, 2, 3, 4, 5)\n",
            "[1, 2, 3, 4, 5, 5]\n",
            "(1, 2, 3, 4, 5, 5)\n"
          ]
        }
      ]
    },
    {
      "cell_type": "code",
      "source": [
        "#set\n",
        "#set-----> curly bracket\n",
        "#set don't support indexing\n",
        "#don't allow duplicate values\n",
        "\n",
        "mylist={1,2,3,4,5}\n",
        "print(mylist)\n",
        "\n",
        "#converting list to set\n",
        "mylist=[1,2,3,4,5]\n",
        "print(mylist)\n",
        "\n",
        "t=set(mylist)\n",
        "print(t)\n"
      ],
      "metadata": {
        "colab": {
          "base_uri": "https://localhost:8080/"
        },
        "id": "UEtajxi2IZM0",
        "outputId": "f17c9c0a-8d79-4412-b752-875e9fd58493"
      },
      "execution_count": null,
      "outputs": [
        {
          "output_type": "stream",
          "name": "stdout",
          "text": [
            "{1, 2, 3, 4, 5}\n",
            "[1, 2, 3, 4, 5]\n",
            "{1, 2, 3, 4, 5}\n"
          ]
        }
      ]
    },
    {
      "cell_type": "code",
      "source": [
        "#dictionary\n",
        "#key-value pair\n",
        "#dict doesn't allow duplicate value\n",
        "mydict={'name':'sb','age':22,'country':'Bangladesh'}\n",
        "print(mydict)\n",
        "print(mydict['name'])\n",
        "print(mydict['age'])\n",
        "print(mydict['country'])\n",
        "type(mydict)\n",
        "\n",
        "\n"
      ],
      "metadata": {
        "id": "Op7lipGoKF2q"
      },
      "execution_count": null,
      "outputs": []
    },
    {
      "cell_type": "markdown",
      "source": [
        "operators\n",
        "1.arithmetic operation\n",
        "2.cmarsion operation\n",
        "3.logical operation\n",
        "4.assignmernt operations\n",
        "5.identity operations\n",
        "6.membership operaytions\n"
      ],
      "metadata": {
        "id": "p_fivwBkX6f6"
      }
    },
    {
      "cell_type": "code",
      "source": [
        "num1=45\n",
        "num2=36\n",
        "sum=num1+num2\n",
        "sub=num1-num2\n",
        "mul=num1*num2\n",
        "div=num1/num2\n",
        "mod=num1%num2\n",
        "exponent=num1**num2\n",
        "print(sum)\n",
        "print(sub)\n",
        "print(mul)\n",
        "print(div)\n",
        "print(mod)\n",
        "print(exponent)\n",
        "\n",
        "\n",
        "\n",
        "\n",
        "#assignment operator\n",
        "'''/=\n",
        "+=\n",
        "-='''\n",
        "#comparsion==,!=\n",
        "#logical and,or,not\n",
        "\n",
        "#membership operator: in,not in\n",
        "\n",
        "a=9\n",
        "b=4\n",
        "c=[1,3,5,9,7]\n",
        "print(a in c)\n",
        "print(b in c)\n"
      ],
      "metadata": {
        "colab": {
          "base_uri": "https://localhost:8080/"
        },
        "id": "UM67rWghYXtl",
        "outputId": "3e73c829-9787-49cc-a6ea-fd5f58bd3424"
      },
      "execution_count": null,
      "outputs": [
        {
          "output_type": "stream",
          "name": "stdout",
          "text": [
            "81\n",
            "9\n",
            "1620\n",
            "1.25\n",
            "9\n",
            "327831360408733226531187361612285036244429647922515869140625\n",
            "True\n",
            "False\n"
          ]
        }
      ]
    },
    {
      "cell_type": "markdown",
      "source": [
        "if,else,elif\n"
      ],
      "metadata": {
        "id": "a6YJYFeTcgEQ"
      }
    },
    {
      "cell_type": "code",
      "source": [
        "a=1\n",
        "b=2\n",
        "c=3\n",
        "if(a<b>c):\n",
        "  print(\"b is greter\")\n",
        "elif(b<a>c):\n",
        "  print(\"a is greter\")\n",
        "\n",
        "else:\n",
        "  print(\" c is greater\")\n"
      ],
      "metadata": {
        "colab": {
          "base_uri": "https://localhost:8080/"
        },
        "id": "5fVxtPFMcf3Q",
        "outputId": "e104f2c3-d3b3-4fc6-c938-96dfc48f3d42"
      },
      "execution_count": null,
      "outputs": [
        {
          "output_type": "stream",
          "name": "stdout",
          "text": [
            " c is greater\n"
          ]
        }
      ]
    },
    {
      "cell_type": "markdown",
      "source": [
        "loop\n"
      ],
      "metadata": {
        "id": "_fKNchs2eG25"
      }
    },
    {
      "cell_type": "code",
      "source": [
        "for i in range(5):\n",
        "  lp=int(input(\"enter the amount :\"))\n",
        "  print(\"sbby\")"
      ],
      "metadata": {
        "colab": {
          "base_uri": "https://localhost:8080/"
        },
        "id": "F6Joyb4heINw",
        "outputId": "63344a2e-cab3-4ca8-cd34-362cb44b3329"
      },
      "execution_count": null,
      "outputs": [
        {
          "output_type": "stream",
          "name": "stdout",
          "text": [
            "enter the amount :2\n",
            "sbby\n",
            "enter the amount :3\n",
            "sbby\n",
            "enter the amount :4\n",
            "sbby\n",
            "enter the amount :6\n",
            "sbby\n",
            "enter the amount :7\n",
            "sbby\n"
          ]
        }
      ]
    },
    {
      "cell_type": "code",
      "source": [
        "b=[1,2,3,4,5]\n",
        "for i in b:\n",
        "  print(i)\n",
        "\n",
        "  #while\n",
        "i=0\n",
        "while i<10:\n",
        "  print(i)\n",
        "  i+=1\n",
        "\n"
      ],
      "metadata": {
        "colab": {
          "base_uri": "https://localhost:8080/"
        },
        "id": "1t_yW5L4ezRn",
        "outputId": "a3148650-2be7-4b7f-80cc-2e56d5ea94d4"
      },
      "execution_count": null,
      "outputs": [
        {
          "output_type": "stream",
          "name": "stdout",
          "text": [
            "1\n",
            "2\n",
            "3\n",
            "4\n",
            "5\n",
            "0\n",
            "1\n",
            "2\n",
            "3\n",
            "4\n",
            "5\n",
            "6\n",
            "7\n",
            "8\n",
            "9\n"
          ]
        }
      ]
    },
    {
      "cell_type": "markdown",
      "source": [
        "find factorial by function\n"
      ],
      "metadata": {
        "id": "CpWCi-sRhNsT"
      }
    },
    {
      "cell_type": "code",
      "source": [
        "num=int(input(\"enter a number: \"))\n",
        "fac=1\n",
        "if num==0:\n",
        "  print(\"the factorial of 0 is 1\")\n",
        "else:\n",
        "  for i in range(1,num+1):\n",
        "     fac=fac*i;\n",
        "  print(\"the factorial of \",num,\"is =\",fac)"
      ],
      "metadata": {
        "colab": {
          "base_uri": "https://localhost:8080/"
        },
        "id": "pWUhbqRGhT6z",
        "outputId": "7191c7eb-c835-492e-ab00-14de664bc1b6"
      },
      "execution_count": null,
      "outputs": [
        {
          "output_type": "stream",
          "name": "stdout",
          "text": [
            "enter a number: 5\n",
            "the factorial of  5 is = 120\n"
          ]
        }
      ]
    },
    {
      "cell_type": "markdown",
      "source": [
        "function"
      ],
      "metadata": {
        "id": "OCZ8khGpjDTX"
      }
    },
    {
      "cell_type": "code",
      "source": [
        "def fact(numb):\n",
        "  fac=1\n",
        "  if numb==0:\n",
        "    return fac\n",
        "  else:\n",
        "   for i in range(1,numb+1):\n",
        "     fac=fac*i;\n",
        "   return fac\n",
        "\n",
        "\n"
      ],
      "metadata": {
        "id": "3tH_1A7ajFj_"
      },
      "execution_count": null,
      "outputs": []
    },
    {
      "cell_type": "code",
      "source": [
        "print(fact(5))\n",
        "print(fact(6))"
      ],
      "metadata": {
        "colab": {
          "base_uri": "https://localhost:8080/"
        },
        "id": "otlO2PI_kG_8",
        "outputId": "3dbae971-7819-45f0-cf73-be25a8d4a90e"
      },
      "execution_count": null,
      "outputs": [
        {
          "output_type": "stream",
          "name": "stdout",
          "text": [
            "120\n",
            "720\n"
          ]
        }
      ]
    },
    {
      "cell_type": "markdown",
      "source": [
        "initial placeholders in numpy arrays"
      ],
      "metadata": {
        "id": "kxoYa4JHQKLd"
      }
    },
    {
      "cell_type": "code",
      "source": [],
      "metadata": {
        "colab": {
          "base_uri": "https://localhost:8080/",
          "height": 180
        },
        "id": "UqRjeglMQeTG",
        "outputId": "cee0c7f4-58ea-4755-f966-2f9c3fa47d51"
      },
      "execution_count": null,
      "outputs": [
        {
          "output_type": "error",
          "ename": "NameError",
          "evalue": "name 'np' is not defined",
          "traceback": [
            "\u001b[0;31m---------------------------------------------------------------------------\u001b[0m",
            "\u001b[0;31mNameError\u001b[0m                                 Traceback (most recent call last)",
            "\u001b[0;32m<ipython-input-1-777c8655b253>\u001b[0m in \u001b[0;36m<cell line: 2>\u001b[0;34m()\u001b[0m\n\u001b[1;32m      1\u001b[0m \u001b[0;31m#create a numpy array of zeros\u001b[0m\u001b[0;34m\u001b[0m\u001b[0;34m\u001b[0m\u001b[0m\n\u001b[0;32m----> 2\u001b[0;31m \u001b[0mx\u001b[0m\u001b[0;34m=\u001b[0m\u001b[0mnp\u001b[0m\u001b[0;34m.\u001b[0m\u001b[0mzeros\u001b[0m\u001b[0;34m(\u001b[0m\u001b[0;34m(\u001b[0m\u001b[0;36m4\u001b[0m\u001b[0;34m,\u001b[0m\u001b[0;36m5\u001b[0m\u001b[0;34m)\u001b[0m\u001b[0;34m)\u001b[0m\u001b[0;34m\u001b[0m\u001b[0;34m\u001b[0m\u001b[0m\n\u001b[0m\u001b[1;32m      3\u001b[0m \u001b[0mprint\u001b[0m\u001b[0;34m(\u001b[0m\u001b[0mx\u001b[0m\u001b[0;34m)\u001b[0m\u001b[0;34m\u001b[0m\u001b[0;34m\u001b[0m\u001b[0m\n",
            "\u001b[0;31mNameError\u001b[0m: name 'np' is not defined"
          ]
        }
      ]
    }
  ]
}