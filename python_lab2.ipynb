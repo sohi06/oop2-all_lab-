{
  "nbformat": 4,
  "nbformat_minor": 0,
  "metadata": {
    "colab": {
      "provenance": []
    },
    "kernelspec": {
      "name": "python3",
      "display_name": "Python 3"
    },
    "language_info": {
      "name": "python"
    }
  },
  "cells": [
    {
      "cell_type": "markdown",
      "source": [
        "list\n"
      ],
      "metadata": {
        "id": "Yes4kKpRLS8k"
      }
    },
    {
      "cell_type": "code",
      "source": [
        "l=[1,8,4,9,5]\n",
        "print(l)\n",
        "print(len(l))\n",
        "print(type(l))\n",
        "print(l[-2])\n",
        "print(l[3:5])\n",
        "print(l[3:])\n",
        "print(l[:5])"
      ],
      "metadata": {
        "colab": {
          "base_uri": "https://localhost:8080/"
        },
        "id": "cM0YChdNLjjq",
        "outputId": "c7de07d1-c97b-49b2-e427-9bfadf0be8b0"
      },
      "execution_count": null,
      "outputs": [
        {
          "output_type": "stream",
          "name": "stdout",
          "text": [
            "[1, 8, 4, 9, 5]\n",
            "5\n",
            "<class 'list'>\n",
            "9\n",
            "[9, 5]\n",
            "[9, 5]\n",
            "[1, 8, 4, 9, 5]\n"
          ]
        }
      ]
    },
    {
      "cell_type": "code",
      "source": [
        "fruits = [\"apple\", \"banana\", \"cherry\"]\n",
        "if \"apple\" in fruits:\n",
        "  print(\"Yes, 'apple' is in the fruits list\")\n",
        "\n",
        "for x in \"banana\":\n",
        "\n",
        "  print(x,end=\" \")"
      ],
      "metadata": {
        "colab": {
          "base_uri": "https://localhost:8080/"
        },
        "id": "Ot4UtNABN-Vz",
        "outputId": "f16bd543-200e-42a8-a7ec-8487a093c9d4"
      },
      "execution_count": null,
      "outputs": [
        {
          "output_type": "stream",
          "name": "stdout",
          "text": [
            "Yes, 'apple' is in the fruits list\n",
            "b a n a n a "
          ]
        }
      ]
    },
    {
      "cell_type": "code",
      "source": [
        "a=[\"red\",\"blue\",\"tasty\"]\n",
        "b=[1,2,3,4]\n",
        "\n",
        "for x in a:\n",
        "  for y in b:\n",
        "\n",
        "    print(x,y)"
      ],
      "metadata": {
        "colab": {
          "base_uri": "https://localhost:8080/"
        },
        "collapsed": true,
        "id": "4nxWOIY7RHJj",
        "outputId": "da492f12-8ffa-46ac-93c6-6b0c9f35e376"
      },
      "execution_count": null,
      "outputs": [
        {
          "output_type": "stream",
          "name": "stdout",
          "text": [
            "red 1\n",
            "red 2\n",
            "red 3\n",
            "red 4\n",
            "blue 1\n",
            "blue 2\n",
            "blue 3\n",
            "blue 4\n",
            "tasty 1\n",
            "tasty 2\n",
            "tasty 3\n",
            "tasty 4\n"
          ]
        }
      ]
    },
    {
      "cell_type": "code",
      "source": [
        "for i in range(1,11):\n",
        "\n",
        "  mul=5*i\n",
        "\n",
        "  if(i==6):\n",
        "    continue;\n",
        "  print(\"5 X\", i ,\"=\",mul )\n",
        "  if(i==8):\n",
        "    break;"
      ],
      "metadata": {
        "colab": {
          "base_uri": "https://localhost:8080/"
        },
        "id": "TBaVJCRlTHXb",
        "outputId": "084a9560-4527-412a-e960-20ae19a3aa99"
      },
      "execution_count": null,
      "outputs": [
        {
          "output_type": "stream",
          "name": "stdout",
          "text": [
            "5 X 1 = 5\n",
            "5 X 2 = 10\n",
            "5 X 3 = 15\n",
            "5 X 4 = 20\n",
            "5 X 5 = 25\n",
            "5 X 7 = 35\n",
            "5 X 8 = 40\n"
          ]
        }
      ]
    },
    {
      "cell_type": "code",
      "source": [
        "def multiplication(num):\n",
        "  for i in range(1,11):\n",
        "\n",
        "    mul=num*i;\n",
        "    if(i==6):\n",
        "     continue;\n",
        "    print(num,\"X\", i ,\"=\",mul )\n",
        "    if(i==8):\n",
        "     break;\n",
        "num=int(input(\"enter a number: \"))\n",
        "print(\"the time table is given below:\")\n",
        "multiplication(num)\n"
      ],
      "metadata": {
        "colab": {
          "base_uri": "https://localhost:8080/"
        },
        "id": "dWgPphX8WI38",
        "outputId": "097c3226-853c-4a6a-bb43-e9c109d42647"
      },
      "execution_count": null,
      "outputs": [
        {
          "output_type": "stream",
          "name": "stdout",
          "text": [
            "enter a number: 134\n",
            "the time table is given below:\n",
            "134 X 1 = 134\n",
            "134 X 2 = 268\n",
            "134 X 3 = 402\n",
            "134 X 4 = 536\n",
            "134 X 5 = 670\n",
            "134 X 7 = 938\n",
            "134 X 8 = 1072\n"
          ]
        }
      ]
    },
    {
      "cell_type": "code",
      "source": [
        "name=input()\n",
        "print(name)"
      ],
      "metadata": {
        "colab": {
          "base_uri": "https://localhost:8080/"
        },
        "id": "8w_gQc5TaunO",
        "outputId": "cc00f5b7-d0ec-4773-86ed-b6710b88aebf"
      },
      "execution_count": null,
      "outputs": [
        {
          "output_type": "stream",
          "name": "stdout",
          "text": [
            "sithi\n",
            "sithi\n"
          ]
        }
      ]
    },
    {
      "cell_type": "code",
      "source": [
        "def oddoreven(num):\n",
        " if(num%2==0):\n",
        "  result=0;\n",
        " else:\n",
        "     result=1;\n",
        " return result;\n",
        "\n",
        "num=int(input(\"enter a number: \"))\n",
        "if(oddoreven(num)==0):\n",
        "  print(\"even\")\n",
        "else:\n",
        "  print(\"odd\")"
      ],
      "metadata": {
        "id": "EbegvkjlbBj8"
      },
      "execution_count": null,
      "outputs": []
    },
    {
      "cell_type": "code",
      "source": [
        "num=[1,2,3,4,5]\n",
        "for x in num:\n",
        "   if(x%2==0):\n",
        "    print(x);\n",
        "\n"
      ],
      "metadata": {
        "colab": {
          "base_uri": "https://localhost:8080/"
        },
        "id": "FHE-4S6ze1YJ",
        "outputId": "6462a652-43f8-4fce-99a1-32003b6e048e"
      },
      "execution_count": null,
      "outputs": [
        {
          "output_type": "stream",
          "name": "stdout",
          "text": [
            "2\n",
            "4\n"
          ]
        }
      ]
    },
    {
      "cell_type": "markdown",
      "source": [
        "list 3rd lab\n",
        "\n"
      ],
      "metadata": {
        "id": "_Q2EujIBKaTA"
      }
    },
    {
      "cell_type": "code",
      "source": [
        "a=[1,3,5,7,4]\n",
        "#length, type\n",
        "\n",
        "print(len(a))\n",
        "print(type(a))\n",
        "a[-3]=50\n",
        "print(a)\n",
        "print(a[2:4])\n",
        "print(a[:-3])\n",
        "a.append(100)\n",
        "print(a)\n",
        "a.insert(2,200)\n",
        "print(a)\n",
        "a.pop()\n",
        "print(a)\n",
        "a.remove(1)\n",
        "print(a)\n",
        "a.extend([2,4,6])\n",
        "print(a)\n",
        "b=a\n",
        "print(b)\n",
        "b.sort()\n",
        "print(b)\n",
        "for x in a:\n",
        "  print(x, end=\" \")"
      ],
      "metadata": {
        "colab": {
          "base_uri": "https://localhost:8080/"
        },
        "id": "8QotD8DdKLOR",
        "outputId": "6d7fd2cd-01a9-4e5d-f61b-69ab2c972242"
      },
      "execution_count": null,
      "outputs": [
        {
          "output_type": "stream",
          "name": "stdout",
          "text": [
            "5\n",
            "<class 'list'>\n",
            "[1, 3, 50, 7, 4]\n",
            "[50, 7]\n",
            "[1, 3]\n",
            "[1, 3, 50, 7, 4, 100]\n",
            "[1, 3, 200, 50, 7, 4, 100]\n",
            "[1, 3, 200, 50, 7, 4]\n",
            "[3, 200, 50, 7, 4]\n",
            "[3, 200, 50, 7, 4, 2, 4, 6]\n",
            "[3, 200, 50, 7, 4, 2, 4, 6]\n",
            "[2, 3, 4, 4, 6, 7, 50, 200]\n",
            "2 3 4 4 6 7 50 200 "
          ]
        }
      ]
    },
    {
      "cell_type": "markdown",
      "source": [
        "task-2:sum of odd number"
      ],
      "metadata": {
        "id": "K2z83u9UO9IY"
      }
    },
    {
      "cell_type": "code",
      "source": [
        "a=[1,3,5,7,4]\n",
        "sum=0\n",
        "for x in a:\n",
        "   if(x%2!=0):\n",
        "    sum=sum+x;\n",
        "print(sum);"
      ],
      "metadata": {
        "colab": {
          "base_uri": "https://localhost:8080/"
        },
        "id": "OmG8Z6rGPBoY",
        "outputId": "31501f6d-b3f6-4f87-8123-f817788bb75a"
      },
      "execution_count": null,
      "outputs": [
        {
          "output_type": "stream",
          "name": "stdout",
          "text": [
            "16\n"
          ]
        }
      ]
    },
    {
      "cell_type": "code",
      "source": [
        "a=[1,3,5,7,4]\n",
        "sum=0\n",
        "for x in range(len(a)):\n",
        "  print(a[x],end=\" \")\n",
        "  if(x%2!=0):\n",
        "    sum=sum+a[x];\n",
        "print(f\"sum is{sum}\");\n"
      ],
      "metadata": {
        "colab": {
          "base_uri": "https://localhost:8080/"
        },
        "id": "VVhDWA9ASqRJ",
        "outputId": "29a1e468-b342-4fb3-d5f4-fa6586ef8b93"
      },
      "execution_count": null,
      "outputs": [
        {
          "output_type": "stream",
          "name": "stdout",
          "text": [
            "1 3 5 7 4 10\n"
          ]
        }
      ]
    },
    {
      "cell_type": "code",
      "source": [
        "a=[1,3,5,7,4]\n",
        "odd=0;\n",
        "even=0;\n",
        "for x in a:\n",
        "   if(x%2!=0):\n",
        "    odd=odd+1;\n",
        "   else:\n",
        "    even=even+1;\n",
        "print(\"odd count= \",odd)\n",
        "print(\"even count= \",even)\n",
        "\n"
      ],
      "metadata": {
        "colab": {
          "base_uri": "https://localhost:8080/"
        },
        "id": "1U-Xlvw3WydB",
        "outputId": "8e995f9e-8405-45c4-96e0-553f3c63efa0"
      },
      "execution_count": null,
      "outputs": [
        {
          "output_type": "stream",
          "name": "stdout",
          "text": [
            "odd count=  4\n",
            "even count=  1\n"
          ]
        }
      ]
    },
    {
      "cell_type": "markdown",
      "source": [
        "tuple\n"
      ],
      "metadata": {
        "id": "INqc0fupaxnZ"
      }
    },
    {
      "cell_type": "code",
      "source": [
        "a=(1,3,5,7,4)\n",
        "#length, type\n",
        "\n",
        "print(len(a))\n",
        "print(type(a))\n",
        "alist=list(a)\n",
        "alist[-3]=500\n",
        "print(alist)\n",
        "print(a[2:4])\n",
        "print(a[:-3])\n",
        "alist.append(100)\n",
        "print(a)\n",
        "alist.insert(2,200)\n",
        "print(a)\n",
        "alist.pop()\n",
        "print(a)\n",
        "alist.remove(1)\n",
        "print(a)\n",
        "alist.extend([2,4,6])\n",
        "print(a)\n",
        "b=alist\n",
        "print(b)\n",
        "b.sort()\n",
        "print(b)\n",
        "for x in a:\n",
        "  print(x, end=\" \")\n",
        "alist=tuple(alist)\n",
        "print(type(alist))"
      ],
      "metadata": {
        "id": "U9RpEDVBaz_Y"
      },
      "execution_count": null,
      "outputs": []
    }
  ]
}