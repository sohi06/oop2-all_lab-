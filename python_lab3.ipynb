{
  "nbformat": 4,
  "nbformat_minor": 0,
  "metadata": {
    "colab": {
      "provenance": []
    },
    "kernelspec": {
      "name": "python3",
      "display_name": "Python 3"
    },
    "language_info": {
      "name": "python"
    }
  },
  "cells": [
    {
      "cell_type": "code",
      "execution_count": null,
      "metadata": {
        "colab": {
          "base_uri": "https://localhost:8080/"
        },
        "id": "5hd65AQgKkLh",
        "outputId": "da72aadb-89ae-496e-d1c2-ef19326123de"
      },
      "outputs": [
        {
          "output_type": "stream",
          "name": "stdout",
          "text": [
            "[1, 4, 9, 16, 25]\n"
          ]
        }
      ],
      "source": [
        "print([x**2 for x in [1,2,3,4,5]])"
      ]
    },
    {
      "cell_type": "markdown",
      "source": [
        "a={1,3,5,8,3,7}\n",
        "b={0,false,1,5}\n",
        "\n"
      ],
      "metadata": {
        "id": "6JC-rVBCP3e8"
      }
    },
    {
      "cell_type": "code",
      "source": [
        "a={1,3,5,8,3,7}\n",
        "b={0,False,1,5}\n",
        "print(len(a))\n",
        "print(type(a))\n",
        "a.add(10)\n",
        "print(a)\n",
        "a.remove(8)\n",
        "print(a)\n",
        "u=a.union(b)\n",
        "print(u)\n",
        "i=a.intersection(b)\n",
        "print(i)\n",
        "print(a-b)\n",
        "\n",
        "\n",
        "\n",
        "\n",
        "\n"
      ],
      "metadata": {
        "colab": {
          "base_uri": "https://localhost:8080/"
        },
        "id": "1_7VHhWHQNjL",
        "outputId": "09aaad71-700a-4aef-fe30-4917955af029"
      },
      "execution_count": null,
      "outputs": [
        {
          "output_type": "stream",
          "name": "stdout",
          "text": [
            "5\n",
            "<class 'set'>\n",
            "{1, 3, 5, 7, 8, 10}\n",
            "{1, 3, 5, 7, 10}\n",
            "{0, 1, 3, 5, 7, 10}\n",
            "{1, 5}\n",
            "{10, 3, 7}\n"
          ]
        }
      ]
    },
    {
      "cell_type": "code",
      "source": [
        "a={1,3,5,8,3,7}\n",
        "for x in a:\n",
        "  if(x==5):\n",
        "    break;\n",
        "  print(x )"
      ],
      "metadata": {
        "colab": {
          "base_uri": "https://localhost:8080/"
        },
        "id": "S2Dm5sn5Sebr",
        "outputId": "c031b40d-f7e3-4a98-8731-f52d7eb4a503"
      },
      "execution_count": null,
      "outputs": [
        {
          "output_type": "stream",
          "name": "stdout",
          "text": [
            "1\n",
            "3\n"
          ]
        }
      ]
    },
    {
      "cell_type": "code",
      "source": [
        "a={1,3,5,8,3,7}\n",
        "\n",
        "b = [2,3,4]\n",
        "\n",
        "a.update(b)\n",
        "\n",
        "print(a)\n"
      ],
      "metadata": {
        "colab": {
          "base_uri": "https://localhost:8080/"
        },
        "id": "0uUf5CmhSo0x",
        "outputId": "48d08acc-f154-4efc-fe88-03b385b520c0"
      },
      "execution_count": null,
      "outputs": [
        {
          "output_type": "stream",
          "name": "stdout",
          "text": [
            "{1, 2, 3, 4, 5, 7, 8}\n"
          ]
        }
      ]
    },
    {
      "cell_type": "code",
      "source": [
        "a={1,3,5,8,3,7}\n",
        "for x in a:\n",
        "  if(x==3):\n",
        "     print(\"3 is present\")\n",
        "\n"
      ],
      "metadata": {
        "colab": {
          "base_uri": "https://localhost:8080/"
        },
        "id": "O8ZM4eOvTLXy",
        "outputId": "526ecbcd-a101-4f26-f896-063df924b066"
      },
      "execution_count": null,
      "outputs": [
        {
          "output_type": "stream",
          "name": "stdout",
          "text": [
            "3 is present\n"
          ]
        }
      ]
    },
    {
      "cell_type": "code",
      "source": [
        "a={1,3,5,8,3,7}\n",
        "b={0,False,1,5}\n",
        "\n",
        "c=a.issuperset(b)\n",
        "\n",
        "print(c)\n",
        "\n",
        "d=a.issubset(b)\n",
        "print(d)\n",
        "\n",
        "d=b.issubset(a)\n",
        "print(d)"
      ],
      "metadata": {
        "colab": {
          "base_uri": "https://localhost:8080/"
        },
        "id": "fAihLu-0Tp_R",
        "outputId": "8919e7db-065c-4f22-fc4e-50985ab4f430"
      },
      "execution_count": null,
      "outputs": [
        {
          "output_type": "stream",
          "name": "stdout",
          "text": [
            "False\n",
            "False\n",
            "False\n"
          ]
        }
      ]
    },
    {
      "cell_type": "code",
      "source": [
        "emp={\"name\":\"a\",  \"age\": \"40\",\n",
        "  \"type\": {\"developer\":[\"ios\",\"android\"]},\n",
        "  \"parmanent\": \"true\",\"salary\":300.3,\n",
        "     100:(1,2,3),4.5:{5,6,True,7,1},\n",
        "     True:1}\n",
        "\n",
        "print(type(emp))\n",
        "print(len(emp))\n",
        "print( emp[\"type\"])\n",
        "print( emp[\"type\"][\"developer\"])\n",
        "print( emp[\"type\"][\"developer\"][1])\n",
        "print(len(emp[\"type\"][\"developer\"][1]))\n",
        "print(emp[4.5])\n",
        "print(emp[\"age\"])\n",
        "emp[\"parmanent\"]=False\n",
        "print(emp[\"parmanent\"])\n",
        "emp[\"gender\"]=\"male\"\n",
        "print(emp)\n",
        "emp.pop(\"age\")\n",
        "print(emp)\n",
        "\n",
        "\n",
        "for x in emp.keys():\n",
        "  print(x)\n",
        "\n",
        "for x in emp.values():\n",
        "  print(x)\n",
        "for x,y in emp.items():\n",
        "  print(x,y)\n"
      ],
      "metadata": {
        "colab": {
          "base_uri": "https://localhost:8080/"
        },
        "id": "ihQ4yrozW8Kg",
        "outputId": "587ae4d9-afd3-4dd7-ddca-7d693e73e2d7"
      },
      "execution_count": null,
      "outputs": [
        {
          "output_type": "stream",
          "name": "stdout",
          "text": [
            "<class 'dict'>\n",
            "8\n",
            "{'developer': ['ios', 'android']}\n",
            "['ios', 'android']\n",
            "android\n",
            "7\n",
            "{True, 5, 6, 7}\n",
            "40\n",
            "False\n",
            "{'name': 'a', 'age': '40', 'type': {'developer': ['ios', 'android']}, 'parmanent': False, 'salary': 300.3, 100: (1, 2, 3), 4.5: {True, 5, 6, 7}, True: 1, 'gender': 'male'}\n",
            "{'name': 'a', 'type': {'developer': ['ios', 'android']}, 'parmanent': False, 'salary': 300.3, 100: (1, 2, 3), 4.5: {True, 5, 6, 7}, True: 1, 'gender': 'male'}\n",
            "name\n",
            "type\n",
            "parmanent\n",
            "salary\n",
            "100\n",
            "4.5\n",
            "True\n",
            "gender\n",
            "a\n",
            "{'developer': ['ios', 'android']}\n",
            "False\n",
            "300.3\n",
            "(1, 2, 3)\n",
            "{True, 5, 6, 7}\n",
            "1\n",
            "male\n",
            "name a\n",
            "type {'developer': ['ios', 'android']}\n",
            "parmanent False\n",
            "salary 300.3\n",
            "100 (1, 2, 3)\n",
            "4.5 {True, 5, 6, 7}\n",
            "True 1\n",
            "gender male\n"
          ]
        }
      ]
    },
    {
      "cell_type": "markdown",
      "source": [
        "Nested dictionary"
      ],
      "metadata": {
        "id": "mLtfj5HsbzRP"
      }
    },
    {
      "cell_type": "code",
      "source": [
        "myfamily = {\n",
        "  \"child1\" : {\n",
        "    \"name\" : \"sohi\",\n",
        "    \"year\" : 2004\n",
        "  },\n",
        "  \"child2\" : {\n",
        "    \"name\" : \"achol\",\n",
        "    \"year\" : 2004\n",
        "  },\n",
        "  \"child3\" : {\n",
        "    \"name\" : \"shanta\",\n",
        "    \"year\" : 2004\n",
        "  }\n",
        "}\n",
        "print(myfamily[\"child1\"][\"name\"])"
      ],
      "metadata": {
        "colab": {
          "base_uri": "https://localhost:8080/"
        },
        "id": "x36w26_Lb1q1",
        "outputId": "82870973-8b4c-4fde-cb20-2c8726b52e89"
      },
      "execution_count": null,
      "outputs": [
        {
          "output_type": "stream",
          "name": "stdout",
          "text": [
            "sohi\n"
          ]
        }
      ]
    }
  ]
}